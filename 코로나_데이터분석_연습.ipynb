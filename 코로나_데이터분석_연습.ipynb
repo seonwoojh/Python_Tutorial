{
  "nbformat": 4,
  "nbformat_minor": 0,
  "metadata": {
    "colab": {
      "name": "코로나 데이터분석 연습.ipynb",
      "provenance": [],
      "collapsed_sections": [],
      "toc_visible": true,
      "authorship_tag": "ABX9TyPUUWnul6QTd/KOjczA6PfC",
      "include_colab_link": true
    },
    "kernelspec": {
      "display_name": "Python 3",
      "name": "python3"
    }
  },
  "cells": [
    {
      "cell_type": "markdown",
      "metadata": {
        "id": "view-in-github",
        "colab_type": "text"
      },
      "source": [
        "<a href=\"https://colab.research.google.com/github/swjh9523/Python_Tutorial/blob/master/%EC%BD%94%EB%A1%9C%EB%82%98_%EB%8D%B0%EC%9D%B4%ED%84%B0%EB%B6%84%EC%84%9D_%EC%97%B0%EC%8A%B5.ipynb\" target=\"_parent\"><img src=\"https://colab.research.google.com/assets/colab-badge.svg\" alt=\"Open In Colab\"/></a>"
      ]
    },
    {
      "cell_type": "markdown",
      "metadata": {
        "id": "iRJPiDHfDtUu"
      },
      "source": [
        "# 기본설정"
      ]
    },
    {
      "cell_type": "code",
      "metadata": {
        "id": "dSJe0bzYWDQk"
      },
      "source": [
        "import pandas as pd\r\n",
        "import numpy as np\r\n",
        "import matplotlib.pyplot as plt\r\n",
        "from sklearn.cluster import KMeans\r\n",
        "import datetime as dt\r\n",
        "import seaborn as sns"
      ],
      "execution_count": 4,
      "outputs": []
    },
    {
      "cell_type": "code",
      "metadata": {
        "colab": {
          "base_uri": "https://localhost:8080/"
        },
        "id": "-M9SOsbyWSrj",
        "outputId": "32d75b01-86e4-40a8-a052-f73fa60ae33e"
      },
      "source": [
        "from google.colab import drive\r\n",
        "drive.mount('/content/drive')"
      ],
      "execution_count": 1,
      "outputs": [
        {
          "output_type": "stream",
          "text": [
            "Drive already mounted at /content/drive; to attempt to forcibly remount, call drive.mount(\"/content/drive\", force_remount=True).\n"
          ],
          "name": "stdout"
        }
      ]
    },
    {
      "cell_type": "code",
      "metadata": {
        "colab": {
          "base_uri": "https://localhost:8080/",
          "height": 251
        },
        "id": "IbLwYIyhWf8j",
        "outputId": "fa86ccdd-2099-4a9b-d494-47bea4343c43"
      },
      "source": [
        "# 그래프 한글폰트 사용설정 in Colab\r\n",
        "import matplotlib as mpl\r\n",
        "import matplotlib.pyplot as plt\r\n",
        "import matplotlib.font_manager as fm\r\n",
        "\r\n",
        "%config InlineBackend.figure_format = 'retina'\r\n",
        "!apt -qq -y install fonts-nanum\r\n",
        "\r\n",
        "fontpath = '/content/drive/My Drive/파이썬/NanumGothic.ttf'\r\n",
        "font = fm.FontProperties(fname=fontpath, size=9)\r\n",
        "plt.rc('font', family='NanumBarunGothic') \r\n",
        "mpl.font_manager._rebuild()\r\n",
        "\r\n",
        "## Test\r\n",
        "plt.figure(figsize=(3,3))\r\n",
        "plt.text(0.5, 0.5, '한글 폰트 테스트 성공!!!', size=15)\r\n",
        "plt.show()"
      ],
      "execution_count": 2,
      "outputs": [
        {
          "output_type": "stream",
          "text": [
            "fonts-nanum is already the newest version (20170925-1).\n",
            "0 upgraded, 0 newly installed, 0 to remove and 13 not upgraded.\n"
          ],
          "name": "stdout"
        },
        {
          "output_type": "display_data",
          "data": {
            "image/png": "[encoded data removed]",
            "text/plain": [
              "<Figure size 216x216 with 1 Axes>"
            ]
          },
          "metadata": {
            "tags": [],
            "image/png": {
              "width": 270,
              "height": 199
            },
            "needs_background": "light"
          }
        }
      ]
    },
    {
      "cell_type": "markdown",
      "metadata": {
        "id": "29GQInkbDzCr"
      },
      "source": [
        "## 전처리"
      ]
    },
    {
      "cell_type": "code",
      "metadata": {
        "id": "YvRlEpDbWtRD"
      },
      "source": [
        "card = pd.read_csv('/content/drive/MyDrive/공모전데이터파일/COVID-19/card_20200717.csv', encoding=\"UTF-8\")\r\n",
        "region = pd.read_csv('/content/drive/MyDrive/공모전데이터파일/COVID-19/COVID_19/Region.csv', encoding=\"UTF-8\")\r\n",
        "fpopl = pd.read_csv('/content/drive/MyDrive/공모전데이터파일/COVID-19/fpopl.csv')\r\n",
        "delivery = pd.read_csv('/content/drive/MyDrive/공모전데이터파일/COVID-19/delivery.csv')"
      ],
      "execution_count": 5,
      "outputs": []
    },
    {
      "cell_type": "code",
      "metadata": {
        "id": "hiOVCW4VhxEU"
      },
      "source": [
        "#card.columns = [\"접수일자\",\"행정동 코드\", \"행정동 명\", \"업종 코드\", \"업종 명\", \"발생 건수\", \"발생 금액\"]\r\n",
        "card[\"접수 연도\"] = card[\"접수일자\"].astype('str').apply(lambda x : x[:4]).astype('int')\r\n",
        "card[\"접수 월일\"] = card[\"접수일자\"].astype('str').apply(lambda x : x[4:6]+'-'+x[6:]).astype('int')"
      ],
      "execution_count": 34,
      "outputs": []
    },
    {
      "cell_type": "code",
      "metadata": {
        "colab": {
          "base_uri": "https://localhost:8080/",
          "height": 195
        },
        "id": "Ie8TnIXmHchD",
        "outputId": "43bd288e-f64a-4391-9009-4cdcd88942bd"
      },
      "source": [
        "card.head()"
      ],
      "execution_count": 13,
      "outputs": [
        {
          "output_type": "execute_result",
          "data": {
            "text/html": [
              "<div>\n",
              "<style scoped>\n",
              "    .dataframe tbody tr th:only-of-type {\n",
              "        vertical-align: middle;\n",
              "    }\n",
              "\n",
              "    .dataframe tbody tr th {\n",
              "        vertical-align: top;\n",
              "    }\n",
              "\n",
              "    .dataframe thead th {\n",
              "        text-align: right;\n",
              "    }\n",
              "</style>\n",
              "<table border=\"1\" class=\"dataframe\">\n",
              "  <thead>\n",
              "    <tr style=\"text-align: right;\">\n",
              "      <th></th>\n",
              "      <th>접수일자</th>\n",
              "      <th>행정동 코드</th>\n",
              "      <th>행정동 명</th>\n",
              "      <th>업종 코드</th>\n",
              "      <th>업종 명</th>\n",
              "      <th>발생 건수</th>\n",
              "      <th>발생 금액</th>\n",
              "      <th>접수 연도</th>\n",
              "      <th>접수 월일</th>\n",
              "    </tr>\n",
              "  </thead>\n",
              "  <tbody>\n",
              "    <tr>\n",
              "      <th>0</th>\n",
              "      <td>20200104</td>\n",
              "      <td>1174066000</td>\n",
              "      <td>성내3동</td>\n",
              "      <td>7041</td>\n",
              "      <td>약국</td>\n",
              "      <td>463</td>\n",
              "      <td>5843230</td>\n",
              "      <td>2020</td>\n",
              "      <td>104</td>\n",
              "    </tr>\n",
              "    <tr>\n",
              "      <th>1</th>\n",
              "      <td>20200104</td>\n",
              "      <td>1174066000</td>\n",
              "      <td>성내3동</td>\n",
              "      <td>7022</td>\n",
              "      <td>치과의원</td>\n",
              "      <td>33</td>\n",
              "      <td>7835550</td>\n",
              "      <td>2020</td>\n",
              "      <td>104</td>\n",
              "    </tr>\n",
              "    <tr>\n",
              "      <th>2</th>\n",
              "      <td>20200104</td>\n",
              "      <td>1174066000</td>\n",
              "      <td>성내3동</td>\n",
              "      <td>7021</td>\n",
              "      <td>한의원</td>\n",
              "      <td>53</td>\n",
              "      <td>4589800</td>\n",
              "      <td>2020</td>\n",
              "      <td>104</td>\n",
              "    </tr>\n",
              "    <tr>\n",
              "      <th>3</th>\n",
              "      <td>20200104</td>\n",
              "      <td>1174066000</td>\n",
              "      <td>성내3동</td>\n",
              "      <td>7020</td>\n",
              "      <td>의원</td>\n",
              "      <td>339</td>\n",
              "      <td>9267240</td>\n",
              "      <td>2020</td>\n",
              "      <td>104</td>\n",
              "    </tr>\n",
              "    <tr>\n",
              "      <th>4</th>\n",
              "      <td>20200104</td>\n",
              "      <td>1174066000</td>\n",
              "      <td>성내3동</td>\n",
              "      <td>6110</td>\n",
              "      <td>자동차정비</td>\n",
              "      <td>19</td>\n",
              "      <td>4441000</td>\n",
              "      <td>2020</td>\n",
              "      <td>104</td>\n",
              "    </tr>\n",
              "  </tbody>\n",
              "</table>\n",
              "</div>"
            ],
            "text/plain": [
              "       접수일자      행정동 코드 행정동 명  업종 코드   업종 명  발생 건수    발생 금액  접수 연도  접수 월일\n",
              "0  20200104  1174066000  성내3동   7041     약국    463  5843230   2020    104\n",
              "1  20200104  1174066000  성내3동   7022   치과의원     33  7835550   2020    104\n",
              "2  20200104  1174066000  성내3동   7021    한의원     53  4589800   2020    104\n",
              "3  20200104  1174066000  성내3동   7020     의원    339  9267240   2020    104\n",
              "4  20200104  1174066000  성내3동   6110  자동차정비     19  4441000   2020    104"
            ]
          },
          "metadata": {
            "tags": []
          },
          "execution_count": 13
        }
      ]
    },
    {
      "cell_type": "code",
      "metadata": {
        "colab": {
          "base_uri": "https://localhost:8080/"
        },
        "id": "szf6UHN_KKvL",
        "outputId": "4e90eb2c-810d-443b-874f-96c675014e81"
      },
      "source": [
        "#card[\"접수일자\"] = pd.to_datetime(card[\"접수일자\"].astype('str'))\r\n",
        "card[\"접수일자\"]."
      ],
      "execution_count": 31,
      "outputs": [
        {
          "output_type": "execute_result",
          "data": {
            "text/plain": [
              "0   2020-01-04\n",
              "1   2020-01-04\n",
              "2   2020-01-04\n",
              "3   2020-01-04\n",
              "Name: 접수일자, dtype: datetime64[ns]"
            ]
          },
          "metadata": {
            "tags": []
          },
          "execution_count": 31
        }
      ]
    },
    {
      "cell_type": "code",
      "metadata": {
        "id": "x6p1A7CVsp8Q"
      },
      "source": [
        "card1 = card.drop([\"접수일자\",\"행정동 코드\"],axis=1).copy()"
      ],
      "execution_count": 11,
      "outputs": []
    },
    {
      "cell_type": "code",
      "metadata": {
        "id": "XTc7-j6WNhGC"
      },
      "source": [
        ""
      ],
      "execution_count": null,
      "outputs": []
    },
    {
      "cell_type": "code",
      "metadata": {
        "colab": {
          "base_uri": "https://localhost:8080/"
        },
        "id": "I4uV-82T3cLl",
        "outputId": "2f3d5220-9fae-49f6-98cf-fe471dc1d35b"
      },
      "source": [
        "card1[\"행정동 명\"].unique()"
      ],
      "execution_count": 13,
      "outputs": [
        {
          "output_type": "execute_result",
          "data": {
            "text/plain": [
              "array(['성내3동', '성내2동', '성내1동', '천호3동', '천호2동', '천호1동', '암사3동', '암사2동',\n",
              "       '암사1동', '고덕2동', '고덕1동', '명일2동', '명일1동', '상일동', '강일동', '잠실7동',\n",
              "       '잠실6동', '잠실4동', '잠실3동', '잠실2동', '잠실본동', '위례동', '장지동', '문정2동',\n",
              "       '문정1동', '가락2동', '가락1동', '가락본동', '삼전동', '석촌동', '송파2동', '송파1동',\n",
              "       '오금동', '오륜동', '방이2동', '방이1동', '마천2동', '마천1동', '거여2동', '거여1동',\n",
              "       '풍납2동', '풍납1동', '수서동', '일원2동', '일원1동', '일원본동', '세곡동', '개포4동',\n",
              "       '개포2동', '도곡2동', '도곡1동', '역삼2동', '역삼1동', '대치4동', '대치2동', '대치1동',\n",
              "       '삼성2동', '삼성1동', '청담동', '압구정동', '논현2동', '논현1동', '신사동', '내곡동',\n",
              "       '양재2동', '양재1동', '방배4동', '방배3동', '방배2동', '방배1동', '방배본동', '반포4동',\n",
              "       '반포3동', '반포2동', '반포1동', '반포본동', '잠원동', '서초4동', '서초3동', '서초2동',\n",
              "       '서초1동', '난곡동', '미성동', '삼성동', '대학동', '조원동', '난향동', '신림동', '서림동',\n",
              "       '신원동', '서원동', '남현동', '인헌동', '중앙동', '은천동', '청룡동', '낙성대동', '행운동',\n",
              "       '성현동', '청림동', '보라매동', '신대방2동', '신대방1동', '대방동', '사당5동', '사당4동',\n",
              "       '사당3동', '사당2동', '사당1동', '흑석동', '상도4동', '상도3동', '상도2동', '상도1동',\n",
              "       '노량진2동', '노량진1동', '대림3동', '대림2동', '대림1동', '신길7동', '신길6동', '신길5동',\n",
              "       '신길4동', '신길3동', '신길1동', '양평2동', '양평1동', '문래동', '도림동', '당산2동',\n",
              "       '당산1동', '여의동', '영등포동', '영등포본동', '시흥5동', '시흥4동', '시흥3동', '시흥2동',\n",
              "       '시흥1동', '독산4동', '독산3동', '독산2동', '독산1동', '가산동', '수궁동', '오류2동',\n",
              "       '오류1동', '개봉3동', '개봉2동', '개봉1동', '고척2동', '고척1동', '가리봉동', '구로5동',\n",
              "       '구로4동', '구로3동', '구로2동', '구로1동', '신도림동', '방화3동', '방화2동', '방화1동',\n",
              "       '공항동', '우장산동', '발산1동', '가양3동', '가양2동', '가양1동', '화곡8동', '화곡6동',\n",
              "       '화곡본동', '화곡4동', '화곡3동', '화곡2동', '화곡1동', '등촌3동', '등촌2동', '등촌1동',\n",
              "       '염창동', '신정7동', '신정6동', '신정4동', '신정3동', '신정2동', '신정1동', '신월7동',\n",
              "       '신월6동', '신월5동', '신월4동', '신월3동', '신월2동', '신월1동', '목5동', '목4동',\n",
              "       '목3동', '목2동', '목1동', '상암동', '성산2동', '성산1동', '연남동', '망원2동', '망원1동',\n",
              "       '합정동', '서교동', '서강동', '신수동', '염리동', '대흥동', '용강동', '도화동', '공덕동',\n",
              "       '아현동', '북가좌2동', '북가좌1동', '남가좌2동', '남가좌1동', '홍은2동', '홍은1동', '홍제2동',\n",
              "       '홍제3동', '홍제1동', '연희동', '신촌동', '충현동', '북아현동', '천연동', '진관동', '수색동',\n",
              "       '증산동', '신사2동', '신사1동', '역촌동', '응암3동', '응암2동', '응암1동', '대조동', '구산동',\n",
              "       '갈현2동', '갈현1동', '불광2동', '불광1동', '녹번동', '상계10동', '상계9동', '상계8동',\n",
              "       '상계6.7동', '상계5동', '상계3.4동', '상계2동', '상계1동', '중계2.3동', '중계4동',\n",
              "       '중계1동', '중계본동', '하계2동', '하계1동', '공릉2동', '공릉1동', '월계3동', '월계2동',\n",
              "       '월계1동', '방학3동', '방학2동', '방학1동', '쌍문4동', '쌍문3동', '쌍문2동', '쌍문1동',\n",
              "       '도봉2동', '도봉1동', '창5동', '창4동', '창3동', '창2동', '창1동', '인수동', '우이동',\n",
              "       '수유3동', '수유2동', '수유1동', '번3동', '번1동', '삼각산동', '송천동', '송중동', '미아동',\n",
              "       '삼양동', '석관동', '장위3동', '장위2동', '장위1동', '월곡2동', '월곡1동', '종암동',\n",
              "       '길음2동', '길음1동', '정릉4동', '정릉3동', '정릉2동', '정릉1동', '보문동', '안암동',\n",
              "       '돈암2동', '돈암1동', '동선동', '삼선동', '성북동', '신내2동', '신내1동', '망우3동',\n",
              "       '망우본동', '묵2동', '묵1동', '중화2동', '중화1동', '상봉2동', '상봉1동', '면목3.8동',\n",
              "       '면목7동', '면목본동', '면목5동', '면목4동', '면목2동', '이문2동', '이문1동', '휘경2동',\n",
              "       '휘경1동', '회기동', '청량리동', '장안2동', '장안1동', '답십리2동', '답십리1동', '전농2동',\n",
              "       '전농1동', '제기동', '용신동', '구의3동', '구의2동', '구의1동', '자양4동', '자양3동',\n",
              "       '자양2동', '자양1동', '광장동', '능동', '중곡4동', '중곡3동', '중곡2동', '중곡1동', '군자동',\n",
              "       '화양동', '용답동', '송정동', '성수2가3동', '성수2가1동', '성수1가2동', '성수1가1동', '옥수동',\n",
              "       '금호4가동', '금호2.3가동', '금호1가동', '응봉동', '행당2동', '행당1동', '사근동', '마장동',\n",
              "       '왕십리도선동', '왕십리2동', '보광동', '서빙고동', '한남동', '이태원2동', '이태원1동', '이촌2동',\n",
              "       '이촌1동', '한강로동', '용문동', '효창동', '원효로2동', '원효로1동', '청파동', '남영동',\n",
              "       '용산2가동', '후암동', '중림동', '황학동', '동화동', '신당5동', '청구동', '약수동', '다산동',\n",
              "       '신당동', '을지로동', '광희동', '장충동', '필동', '명동', '회현동', '소공동', '숭인2동',\n",
              "       '숭인1동', '창신3동', '창신2동', '창신1동', '혜화동', '이화동', '종로5.6가동',\n",
              "       '종로1.2.3.4가동', '가회동', '교남동', '무악동', '평창동', '부암동', '삼청동', '사직동',\n",
              "       '청운효자동', '둔촌2동', '길동', '개포1동', '둔촌1동', '번2동', '항동'], dtype=object)"
            ]
          },
          "metadata": {
            "tags": []
          },
          "execution_count": 13
        }
      ]
    },
    {
      "cell_type": "code",
      "metadata": {
        "colab": {
          "base_uri": "https://localhost:8080/",
          "height": 195
        },
        "id": "20UvBbrfjZ3Q",
        "outputId": "261cbda1-063b-4fd3-9792-60200e35b4cc"
      },
      "source": [
        "양천구 = card1[card1[\"행정동 명\"].str.contains('신월|신정|목1동|목2동|목3동|목4동|목5동')].copy()\r\n",
        "양천구[\"행정동 명\"].unique()\r\n",
        "양천구 = 양천구[~양천구[\"행정동 명\"].str.startswith('면목')].copy()\r\n",
        "양천구.head()"
      ],
      "execution_count": 14,
      "outputs": [
        {
          "output_type": "execute_result",
          "data": {
            "text/html": [
              "<div>\n",
              "<style scoped>\n",
              "    .dataframe tbody tr th:only-of-type {\n",
              "        vertical-align: middle;\n",
              "    }\n",
              "\n",
              "    .dataframe tbody tr th {\n",
              "        vertical-align: top;\n",
              "    }\n",
              "\n",
              "    .dataframe thead th {\n",
              "        text-align: right;\n",
              "    }\n",
              "</style>\n",
              "<table border=\"1\" class=\"dataframe\">\n",
              "  <thead>\n",
              "    <tr style=\"text-align: right;\">\n",
              "      <th></th>\n",
              "      <th>행정동 명</th>\n",
              "      <th>업종 코드</th>\n",
              "      <th>업종 명</th>\n",
              "      <th>발생 건수</th>\n",
              "      <th>발생 금액</th>\n",
              "      <th>접수 연도</th>\n",
              "      <th>접수 월일</th>\n",
              "    </tr>\n",
              "  </thead>\n",
              "  <tbody>\n",
              "    <tr>\n",
              "      <th>4235</th>\n",
              "      <td>신정7동</td>\n",
              "      <td>9305</td>\n",
              "      <td>학원(회원제형태)</td>\n",
              "      <td>16</td>\n",
              "      <td>6144000</td>\n",
              "      <td>2020</td>\n",
              "      <td>01-04</td>\n",
              "    </tr>\n",
              "    <tr>\n",
              "      <th>4236</th>\n",
              "      <td>신정7동</td>\n",
              "      <td>8399</td>\n",
              "      <td>기타음료식품</td>\n",
              "      <td>65</td>\n",
              "      <td>715150</td>\n",
              "      <td>2020</td>\n",
              "      <td>01-04</td>\n",
              "    </tr>\n",
              "    <tr>\n",
              "      <th>4237</th>\n",
              "      <td>신정7동</td>\n",
              "      <td>8302</td>\n",
              "      <td>정 육 점</td>\n",
              "      <td>24</td>\n",
              "      <td>7555400</td>\n",
              "      <td>2020</td>\n",
              "      <td>01-04</td>\n",
              "    </tr>\n",
              "    <tr>\n",
              "      <th>4238</th>\n",
              "      <td>신정7동</td>\n",
              "      <td>8301</td>\n",
              "      <td>제과점</td>\n",
              "      <td>174</td>\n",
              "      <td>2070840</td>\n",
              "      <td>2020</td>\n",
              "      <td>01-04</td>\n",
              "    </tr>\n",
              "    <tr>\n",
              "      <th>4239</th>\n",
              "      <td>신정7동</td>\n",
              "      <td>8021</td>\n",
              "      <td>스넥</td>\n",
              "      <td>188</td>\n",
              "      <td>2481500</td>\n",
              "      <td>2020</td>\n",
              "      <td>01-04</td>\n",
              "    </tr>\n",
              "  </tbody>\n",
              "</table>\n",
              "</div>"
            ],
            "text/plain": [
              "     행정동 명  업종 코드       업종 명  발생 건수    발생 금액  접수 연도  접수 월일\n",
              "4235  신정7동   9305  학원(회원제형태)     16  6144000   2020  01-04\n",
              "4236  신정7동   8399     기타음료식품     65   715150   2020  01-04\n",
              "4237  신정7동   8302      정 육 점     24  7555400   2020  01-04\n",
              "4238  신정7동   8301        제과점    174  2070840   2020  01-04\n",
              "4239  신정7동   8021         스넥    188  2481500   2020  01-04"
            ]
          },
          "metadata": {
            "tags": []
          },
          "execution_count": 14
        }
      ]
    },
    {
      "cell_type": "code",
      "metadata": {
        "colab": {
          "base_uri": "https://localhost:8080/",
          "height": 975
        },
        "id": "Ux_x-8xv3gLR",
        "outputId": "1556ad85-35ed-49cf-bed0-f0870e34eacd"
      },
      "source": [
        "sns.set(font=\"NanumGothic\", \r\n",
        "         rc={\"axes.unicode_minus\":False},\r\n",
        "         style='darkgrid')\r\n",
        "plt.figure(figsize = (15,7))\r\n",
        "sns.countplot(data=양천구, x= \"행정동 명\", order=양천구[\"행정동 명\"].value_counts().index)"
      ],
      "execution_count": 15,
      "outputs": [
        {
          "output_type": "execute_result",
          "data": {
            "text/plain": [
              "<matplotlib.axes._subplots.AxesSubplot at 0x7f357ccf0f60>"
            ]
          },
          "metadata": {
            "tags": []
          },
          "execution_count": 15
        },
        {
          "output_type": "stream",
          "text": [
            "findfont: Font family ['NanumGothic'] not found. Falling back to DejaVu Sans.\n",
            "/usr/local/lib/python3.6/dist-packages/matplotlib/backends/backend_agg.py:214: RuntimeWarning: Glyph 49888 missing from current font.\n",
            "  font.set_text(s, 0.0, flags=flags)\n",
            "/usr/local/lib/python3.6/dist-packages/matplotlib/backends/backend_agg.py:214: RuntimeWarning: Glyph 51221 missing from current font.\n",
            "  font.set_text(s, 0.0, flags=flags)\n",
            "/usr/local/lib/python3.6/dist-packages/matplotlib/backends/backend_agg.py:214: RuntimeWarning: Glyph 46041 missing from current font.\n",
            "  font.set_text(s, 0.0, flags=flags)\n",
            "/usr/local/lib/python3.6/dist-packages/matplotlib/backends/backend_agg.py:214: RuntimeWarning: Glyph 47785 missing from current font.\n",
            "  font.set_text(s, 0.0, flags=flags)\n",
            "/usr/local/lib/python3.6/dist-packages/matplotlib/backends/backend_agg.py:214: RuntimeWarning: Glyph 50900 missing from current font.\n",
            "  font.set_text(s, 0.0, flags=flags)\n",
            "findfont: Font family ['NanumGothic'] not found. Falling back to DejaVu Sans.\n",
            "/usr/local/lib/python3.6/dist-packages/matplotlib/backends/backend_agg.py:214: RuntimeWarning: Glyph 54665 missing from current font.\n",
            "  font.set_text(s, 0.0, flags=flags)\n",
            "/usr/local/lib/python3.6/dist-packages/matplotlib/backends/backend_agg.py:214: RuntimeWarning: Glyph 47749 missing from current font.\n",
            "  font.set_text(s, 0.0, flags=flags)\n",
            "/usr/local/lib/python3.6/dist-packages/matplotlib/backends/backend_agg.py:183: RuntimeWarning: Glyph 49888 missing from current font.\n",
            "  font.set_text(s, 0, flags=flags)\n",
            "/usr/local/lib/python3.6/dist-packages/matplotlib/backends/backend_agg.py:183: RuntimeWarning: Glyph 51221 missing from current font.\n",
            "  font.set_text(s, 0, flags=flags)\n",
            "/usr/local/lib/python3.6/dist-packages/matplotlib/backends/backend_agg.py:183: RuntimeWarning: Glyph 46041 missing from current font.\n",
            "  font.set_text(s, 0, flags=flags)\n",
            "/usr/local/lib/python3.6/dist-packages/matplotlib/backends/backend_agg.py:183: RuntimeWarning: Glyph 47785 missing from current font.\n",
            "  font.set_text(s, 0, flags=flags)\n",
            "/usr/local/lib/python3.6/dist-packages/matplotlib/backends/backend_agg.py:183: RuntimeWarning: Glyph 50900 missing from current font.\n",
            "  font.set_text(s, 0, flags=flags)\n",
            "/usr/local/lib/python3.6/dist-packages/matplotlib/backends/backend_agg.py:183: RuntimeWarning: Glyph 54665 missing from current font.\n",
            "  font.set_text(s, 0, flags=flags)\n",
            "/usr/local/lib/python3.6/dist-packages/matplotlib/backends/backend_agg.py:183: RuntimeWarning: Glyph 47749 missing from current font.\n",
            "  font.set_text(s, 0, flags=flags)\n"
          ],
          "name": "stderr"
        },
        {
          "output_type": "display_data",
          "data": {
            "image/png": "[encoded data removed]",
            "text/plain": [
              "<Figure size 1080x504 with 1 Axes>"
            ]
          },
          "metadata": {
            "tags": [],
            "image/png": {
              "width": 912,
              "height": 430
            }
          }
        }
      ]
    },
    {
      "cell_type": "code",
      "metadata": {
        "colab": {
          "base_uri": "https://localhost:8080/"
        },
        "id": "XJCIb1bf-wng",
        "outputId": "a79d01be-d21a-442c-a5e9-08b544ae56db"
      },
      "source": [
        "card1[\"업종 명\"].value_counts()"
      ],
      "execution_count": 16,
      "outputs": [
        {
          "output_type": "execute_result",
          "data": {
            "text/plain": [
              "일반한식         65528\n",
              "서양음식         65499\n",
              "편 의 점        65160\n",
              "스넥           65007\n",
              "미 용 원        64073\n",
              "             ...  \n",
              "통신기기무이자할부        8\n",
              "카지노              8\n",
              "택시회사             4\n",
              "P2P송금            2\n",
              "중고자동차위탁판매        1\n",
              "Name: 업종 명, Length: 260, dtype: int64"
            ]
          },
          "metadata": {
            "tags": []
          },
          "execution_count": 16
        }
      ]
    },
    {
      "cell_type": "code",
      "metadata": {
        "id": "-QPOKvbx_Cs5"
      },
      "source": [
        "card2 = card1[[\"업종 코드\",\"업종 명\"]].unstack().copy()"
      ],
      "execution_count": 17,
      "outputs": []
    },
    {
      "cell_type": "code",
      "metadata": {
        "colab": {
          "base_uri": "https://localhost:8080/",
          "height": 169
        },
        "id": "AzKsmxim_PJv",
        "outputId": "4bf12c10-95fc-486c-f4f0-54b84d134e7c"
      },
      "source": [
        "card2.sort_values(by='업종 코드', ascending=False)"
      ],
      "execution_count": 18,
      "outputs": [
        {
          "output_type": "error",
          "ename": "TypeError",
          "evalue": "ignored",
          "traceback": [
            "\u001b[0;31m---------------------------------------------------------------------------\u001b[0m",
            "\u001b[0;31mTypeError\u001b[0m                                 Traceback (most recent call last)",
            "\u001b[0;32m<ipython-input-18-84b15ea7ab31>\u001b[0m in \u001b[0;36m<module>\u001b[0;34m()\u001b[0m\n\u001b[0;32m----> 1\u001b[0;31m \u001b[0mcard2\u001b[0m\u001b[0;34m.\u001b[0m\u001b[0msort_values\u001b[0m\u001b[0;34m(\u001b[0m\u001b[0mby\u001b[0m\u001b[0;34m=\u001b[0m\u001b[0;34m'업종 코드'\u001b[0m\u001b[0;34m,\u001b[0m \u001b[0mascending\u001b[0m\u001b[0;34m=\u001b[0m\u001b[0;32mFalse\u001b[0m\u001b[0;34m)\u001b[0m\u001b[0;34m\u001b[0m\u001b[0;34m\u001b[0m\u001b[0m\n\u001b[0m",
            "\u001b[0;31mTypeError\u001b[0m: sort_values() got an unexpected keyword argument 'by'"
          ]
        }
      ]
    },
    {
      "cell_type": "code",
      "metadata": {
        "id": "WSWsndMr_p4L"
      },
      "source": [
        ""
      ],
      "execution_count": null,
      "outputs": []
    },
    {
      "cell_type": "code",
      "metadata": {
        "id": "zvBt_IhlAyqp"
      },
      "source": [
        "양천구.head()"
      ],
      "execution_count": null,
      "outputs": []
    },
    {
      "cell_type": "code",
      "metadata": {
        "id": "5eTjeWIfpDUk"
      },
      "source": [
        "양천구['업종 코드'] = 양천구[\"업종 코드\"].astype('str')"
      ],
      "execution_count": null,
      "outputs": []
    },
    {
      "cell_type": "code",
      "metadata": {
        "id": "TAypB-7RpJd2"
      },
      "source": [
        "count = 양천구[양천구['업종 코드'].str.startswith('7')][\"업종 코드\"].value_counts()\r\n",
        "양천구_7 = 양천구[양천구['업종 코드'].str.startswith('7')].copy()\r\n",
        "plt.figure(figsize=(40,4))\r\n",
        "sns.countplot(data=양천구_7, x=\"업종 명\", order=양천구_7[\"업종 명\"].value_counts().index)"
      ],
      "execution_count": null,
      "outputs": []
    },
    {
      "cell_type": "code",
      "metadata": {
        "id": "QOesQkFpw_HU"
      },
      "source": [
        "양천구_9 = 양천구[양천구['업종 코드'].str.startswith('9')].copy()\r\n",
        "plt.figure(figsize=(40,4))\r\n",
        "sns.countplot(data=양천구_9, x=\"업종 명\", order=양천구_9[\"업종 명\"].value_counts().index)"
      ],
      "execution_count": null,
      "outputs": []
    },
    {
      "cell_type": "code",
      "metadata": {
        "id": "2CmVKK6dw_tA"
      },
      "source": [
        "양천구_8 = 양천구[양천구['업종 코드'].str.startswith('8')].copy()\r\n",
        "plt.figure(figsize=(40,4))\r\n",
        "sns.countplot(data=양천구_8, x=\"업종 명\", order=양천구_8[\"업종 명\"].value_counts().index)"
      ],
      "execution_count": null,
      "outputs": []
    },
    {
      "cell_type": "code",
      "metadata": {
        "id": "l2rK0XiHpga_"
      },
      "source": [
        "양천구_7.head()"
      ],
      "execution_count": null,
      "outputs": []
    },
    {
      "cell_type": "code",
      "metadata": {
        "id": "mpHd0XeXvSI9"
      },
      "source": [
        "양천구_코드 = 양천구[[\"업종 코드\",\"업종 명\"]].copy()"
      ],
      "execution_count": null,
      "outputs": []
    }
  ]
}