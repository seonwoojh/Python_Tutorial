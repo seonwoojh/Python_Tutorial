{
  "nbformat": 4,
  "nbformat_minor": 0,
  "metadata": {
    "colab": {
      "name": "코로나 데이터분석 연습.ipynb",
      "provenance": [],
      "collapsed_sections": [],
      "authorship_tag": "ABX9TyOhNJrb7jgCA9HkKqnHeFYY",
      "include_colab_link": true
    },
    "kernelspec": {
      "display_name": "Python 3",
      "name": "python3"
    }
  },
  "cells": [
    {
      "cell_type": "markdown",
      "metadata": {
        "id": "view-in-github",
        "colab_type": "text"
      },
      "source": [
        "<a href=\"https://colab.research.google.com/github/swjh9523/Python_Tutorial/blob/master/%EC%BD%94%EB%A1%9C%EB%82%98_%EB%8D%B0%EC%9D%B4%ED%84%B0%EB%B6%84%EC%84%9D_%EC%97%B0%EC%8A%B5.ipynb\" target=\"_parent\"><img src=\"https://colab.research.google.com/assets/colab-badge.svg\" alt=\"Open In Colab\"/></a>"
      ]
    },
    {
      "cell_type": "markdown",
      "metadata": {
        "id": "iRJPiDHfDtUu"
      },
      "source": [
        "# 기본설정"
      ]
    },
    {
      "cell_type": "code",
      "metadata": {
        "id": "dSJe0bzYWDQk"
      },
      "source": [
        "import pandas as pd\r\n",
        "import numpy as np\r\n",
        "import matplotlib.pyplot as plt\r\n",
        "from sklearn.cluster import KMeans\r\n",
        "import datetime as dt\r\n",
        "import seaborn as sns\r\n",
        "import missingno\r\n",
        "import warnings\r\n",
        "warnings.filterwarnings(action='ignore')"
      ],
      "execution_count": null,
      "outputs": []
    },
    {
      "cell_type": "code",
      "metadata": {
        "colab": {
          "base_uri": "https://localhost:8080/"
        },
        "id": "-M9SOsbyWSrj",
        "outputId": "548f04b2-706a-47f4-b827-0ee03c60ccdc"
      },
      "source": [
        "from google.colab import drive\r\n",
        "drive.mount('/content/drive')"
      ],
      "execution_count": null,
      "outputs": [
        {
          "output_type": "stream",
          "text": [
            "Drive already mounted at /content/drive; to attempt to forcibly remount, call drive.mount(\"/content/drive\", force_remount=True).\n"
          ],
          "name": "stdout"
        }
      ]
    },
    {
      "cell_type": "code",
      "metadata": {
        "colab": {
          "base_uri": "https://localhost:8080/",
          "height": 251
        },
        "id": "IbLwYIyhWf8j",
        "outputId": "63923125-ec65-4fe0-b3c2-5a5cf764520c"
      },
      "source": [
        "# 그래프 한글폰트 사용설정 in Colab\r\n",
        "import matplotlib as mpl\r\n",
        "import matplotlib.pyplot as plt\r\n",
        "import matplotlib.font_manager as fm\r\n",
        "\r\n",
        "%config InlineBackend.figure_format = 'retina'\r\n",
        "!apt -qq -y install fonts-nanum\r\n",
        "\r\n",
        "fontpath = '/content/drive/My Drive/파이썬/NanumGothic.ttf'\r\n",
        "font = fm.FontProperties(fname=fontpath, size=9)\r\n",
        "plt.rc('font', family='NanumBarunGothic') \r\n",
        "mpl.font_manager._rebuild()\r\n",
        "\r\n",
        "## Test\r\n",
        "plt.figure(figsize=(3,3))\r\n",
        "plt.text(0.5, 0.5, '한글 폰트 테스트 성공!!!', size=15)\r\n",
        "plt.show()"
      ],
      "execution_count": null,
      "outputs": [
        {
          "output_type": "stream",
          "text": [
            "fonts-nanum is already the newest version (20170925-1).\n",
            "0 upgraded, 0 newly installed, 0 to remove and 13 not upgraded.\n"
          ],
          "name": "stdout"
        },
        {
          "output_type": "display_data",
          "data": {
            "image/png": "[encoded data removed]",
            "text/plain": [
              "<Figure size 216x216 with 1 Axes>"
            ]
          },
          "metadata": {
            "tags": [],
            "image/png": {
              "width": 270,
              "height": 199
            },
            "needs_background": "light"
          }
        }
      ]
    },
    {
      "cell_type": "markdown",
      "metadata": {
        "id": "29GQInkbDzCr"
      },
      "source": [
        "## 전처리"
      ]
    },
    {
      "cell_type": "code",
      "metadata": {
        "id": "YvRlEpDbWtRD"
      },
      "source": [
        "card = pd.read_csv('/content/drive/MyDrive/공모전데이터파일/COVID-19/card_20200717.csv', encoding=\"UTF-8\")\r\n",
        "adstrd_master = pd.read_csv('/content/drive/MyDrive/공모전데이터파일/COVID-19/adstrd_master.csv', encoding=\"UTF-8\")\r\n",
        "fpopl = pd.read_csv('/content/drive/MyDrive/공모전데이터파일/COVID-19/fpopl.csv')\r\n",
        "delivery = pd.read_csv('/content/drive/MyDrive/공모전데이터파일/COVID-19/delivery.csv')"
      ],
      "execution_count": null,
      "outputs": []
    },
    {
      "cell_type": "code",
      "metadata": {
        "colab": {
          "base_uri": "https://localhost:8080/",
          "height": 215
        },
        "id": "OXqRts6nccYZ",
        "outputId": "b1c96b4d-c6d2-42d5-c044-5c28ea0a3656"
      },
      "source": [
        "card.head()"
      ],
      "execution_count": null,
      "outputs": [
        {
          "output_type": "execute_result",
          "data": {
            "text/html": [
              "<div>\n",
              "<style scoped>\n",
              "    .dataframe tbody tr th:only-of-type {\n",
              "        vertical-align: middle;\n",
              "    }\n",
              "\n",
              "    .dataframe tbody tr th {\n",
              "        vertical-align: top;\n",
              "    }\n",
              "\n",
              "    .dataframe thead th {\n",
              "        text-align: right;\n",
              "    }\n",
              "</style>\n",
              "<table border=\"1\" class=\"dataframe\">\n",
              "  <thead>\n",
              "    <tr style=\"text-align: right;\">\n",
              "      <th></th>\n",
              "      <th>receipt_dttm</th>\n",
              "      <th>adstrd_code</th>\n",
              "      <th>adstrd_nm</th>\n",
              "      <th>mrhst_induty_cl_code</th>\n",
              "      <th>mrhst_induty_cl_nm</th>\n",
              "      <th>selng_cascnt</th>\n",
              "      <th>salamt</th>\n",
              "    </tr>\n",
              "  </thead>\n",
              "  <tbody>\n",
              "    <tr>\n",
              "      <th>0</th>\n",
              "      <td>20200104</td>\n",
              "      <td>1174066000</td>\n",
              "      <td>성내3동</td>\n",
              "      <td>7041</td>\n",
              "      <td>약국</td>\n",
              "      <td>463</td>\n",
              "      <td>5843230</td>\n",
              "    </tr>\n",
              "    <tr>\n",
              "      <th>1</th>\n",
              "      <td>20200104</td>\n",
              "      <td>1174066000</td>\n",
              "      <td>성내3동</td>\n",
              "      <td>7022</td>\n",
              "      <td>치과의원</td>\n",
              "      <td>33</td>\n",
              "      <td>7835550</td>\n",
              "    </tr>\n",
              "    <tr>\n",
              "      <th>2</th>\n",
              "      <td>20200104</td>\n",
              "      <td>1174066000</td>\n",
              "      <td>성내3동</td>\n",
              "      <td>7021</td>\n",
              "      <td>한의원</td>\n",
              "      <td>53</td>\n",
              "      <td>4589800</td>\n",
              "    </tr>\n",
              "    <tr>\n",
              "      <th>3</th>\n",
              "      <td>20200104</td>\n",
              "      <td>1174066000</td>\n",
              "      <td>성내3동</td>\n",
              "      <td>7020</td>\n",
              "      <td>의원</td>\n",
              "      <td>339</td>\n",
              "      <td>9267240</td>\n",
              "    </tr>\n",
              "    <tr>\n",
              "      <th>4</th>\n",
              "      <td>20200104</td>\n",
              "      <td>1174066000</td>\n",
              "      <td>성내3동</td>\n",
              "      <td>6110</td>\n",
              "      <td>자동차정비</td>\n",
              "      <td>19</td>\n",
              "      <td>4441000</td>\n",
              "    </tr>\n",
              "  </tbody>\n",
              "</table>\n",
              "</div>"
            ],
            "text/plain": [
              "   receipt_dttm  adstrd_code  ... selng_cascnt   salamt\n",
              "0      20200104   1174066000  ...          463  5843230\n",
              "1      20200104   1174066000  ...           33  7835550\n",
              "2      20200104   1174066000  ...           53  4589800\n",
              "3      20200104   1174066000  ...          339  9267240\n",
              "4      20200104   1174066000  ...           19  4441000\n",
              "\n",
              "[5 rows x 7 columns]"
            ]
          },
          "metadata": {
            "tags": []
          },
          "execution_count": 6
        }
      ]
    },
    {
      "cell_type": "code",
      "metadata": {
        "id": "hiOVCW4VhxEU"
      },
      "source": [
        "card.columns = [\"접수일자\",\"행정동 코드\", \"행정동 명\", \"업종 코드\", \"업종 명\", \"발생 건수\", \"발생 금액\"]\r\n",
        "card[\"접수일자\"] = card[\"접수일자\"].astype('str').apply(lambda x : x[:4] + '-' + x[4:6] + '-' + x[6:])\r\n",
        "adstrd_master.columns = [\"행정동 코드\", \"행정동\",\"광역시도\",\"시군구\"]"
      ],
      "execution_count": null,
      "outputs": []
    },
    {
      "cell_type": "code",
      "metadata": {
        "colab": {
          "base_uri": "https://localhost:8080/",
          "height": 313
        },
        "id": "2dbIOnJQaVv5",
        "outputId": "9404cb67-6609-4150-c8e0-60ba130626a4"
      },
      "source": [
        "# 병합을 위한 글자길이 확인\r\n",
        "print(card[\"행정동 코드\"].astype('str').str.len())\r\n",
        "print(adstrd_master[\"행정동 코드\"].astype('str').str.len())\r\n",
        "\r\n",
        "# 데이터 병합을 위해 데이터 길이 맞추기\r\n",
        "adstrd_master[\"행정동 코드\"] = adstrd_master[\"행정동 코드\"].astype('int')\r\n",
        "adstrd_master[\"행정동 코드\"] = adstrd_master[\"행정동 코드\"].astype('str').apply(lambda x: x[0:] + '00').astype('int')\r\n",
        "\r\n",
        "# df로 병합하기(행정동 코드 기준 left)\r\n",
        "card2 = pd.merge(card, adstrd_master,on = '행정동 코드' ,how='left').copy()\r\n",
        "card2.head()\r\n"
      ],
      "execution_count": null,
      "outputs": [
        {
          "output_type": "execute_result",
          "data": {
            "text/html": [
              "<div>\n",
              "<style scoped>\n",
              "    .dataframe tbody tr th:only-of-type {\n",
              "        vertical-align: middle;\n",
              "    }\n",
              "\n",
              "    .dataframe tbody tr th {\n",
              "        vertical-align: top;\n",
              "    }\n",
              "\n",
              "    .dataframe thead th {\n",
              "        text-align: right;\n",
              "    }\n",
              "</style>\n",
              "<table border=\"1\" class=\"dataframe\">\n",
              "  <thead>\n",
              "    <tr style=\"text-align: right;\">\n",
              "      <th></th>\n",
              "      <th>접수일자</th>\n",
              "      <th>행정동 코드</th>\n",
              "      <th>행정동 명</th>\n",
              "      <th>업종 코드</th>\n",
              "      <th>업종 명</th>\n",
              "      <th>발생 건수</th>\n",
              "      <th>발생 금액</th>\n",
              "      <th>행정동</th>\n",
              "      <th>광역시도</th>\n",
              "      <th>시군구</th>\n",
              "    </tr>\n",
              "  </thead>\n",
              "  <tbody>\n",
              "    <tr>\n",
              "      <th>0</th>\n",
              "      <td>2020-01-04</td>\n",
              "      <td>1174066000</td>\n",
              "      <td>성내3동</td>\n",
              "      <td>7041</td>\n",
              "      <td>약국</td>\n",
              "      <td>463</td>\n",
              "      <td>5843230</td>\n",
              "      <td>성내3동</td>\n",
              "      <td>서울특별시</td>\n",
              "      <td>강동구</td>\n",
              "    </tr>\n",
              "    <tr>\n",
              "      <th>1</th>\n",
              "      <td>2020-01-04</td>\n",
              "      <td>1174066000</td>\n",
              "      <td>성내3동</td>\n",
              "      <td>7022</td>\n",
              "      <td>치과의원</td>\n",
              "      <td>33</td>\n",
              "      <td>7835550</td>\n",
              "      <td>성내3동</td>\n",
              "      <td>서울특별시</td>\n",
              "      <td>강동구</td>\n",
              "    </tr>\n",
              "    <tr>\n",
              "      <th>2</th>\n",
              "      <td>2020-01-04</td>\n",
              "      <td>1174066000</td>\n",
              "      <td>성내3동</td>\n",
              "      <td>7021</td>\n",
              "      <td>한의원</td>\n",
              "      <td>53</td>\n",
              "      <td>4589800</td>\n",
              "      <td>성내3동</td>\n",
              "      <td>서울특별시</td>\n",
              "      <td>강동구</td>\n",
              "    </tr>\n",
              "    <tr>\n",
              "      <th>3</th>\n",
              "      <td>2020-01-04</td>\n",
              "      <td>1174066000</td>\n",
              "      <td>성내3동</td>\n",
              "      <td>7020</td>\n",
              "      <td>의원</td>\n",
              "      <td>339</td>\n",
              "      <td>9267240</td>\n",
              "      <td>성내3동</td>\n",
              "      <td>서울특별시</td>\n",
              "      <td>강동구</td>\n",
              "    </tr>\n",
              "    <tr>\n",
              "      <th>4</th>\n",
              "      <td>2020-01-04</td>\n",
              "      <td>1174066000</td>\n",
              "      <td>성내3동</td>\n",
              "      <td>6110</td>\n",
              "      <td>자동차정비</td>\n",
              "      <td>19</td>\n",
              "      <td>4441000</td>\n",
              "      <td>성내3동</td>\n",
              "      <td>서울특별시</td>\n",
              "      <td>강동구</td>\n",
              "    </tr>\n",
              "  </tbody>\n",
              "</table>\n",
              "</div>"
            ],
            "text/plain": [
              "         접수일자      행정동 코드 행정동 명  업종 코드   업종 명  발생 건수    발생 금액   행정동   광역시도  시군구\n",
              "0  2020-01-04  1174066000  성내3동   7041     약국    463  5843230  성내3동  서울특별시  강동구\n",
              "1  2020-01-04  1174066000  성내3동   7022   치과의원     33  7835550  성내3동  서울특별시  강동구\n",
              "2  2020-01-04  1174066000  성내3동   7021    한의원     53  4589800  성내3동  서울특별시  강동구\n",
              "3  2020-01-04  1174066000  성내3동   7020     의원    339  9267240  성내3동  서울특별시  강동구\n",
              "4  2020-01-04  1174066000  성내3동   6110  자동차정비     19  4441000  성내3동  서울특별시  강동구"
            ]
          },
          "metadata": {
            "tags": []
          },
          "execution_count": 25
        }
      ]
    },
    {
      "cell_type": "code",
      "metadata": {
        "id": "zo4VrIy7j6_B"
      },
      "source": [
        "card2[~(card2[\"광역시도\"] == \"서울특별시\")] # 지역은 서울특별시로 한정\r\n",
        "\r\n",
        "card2 = card2.drop('행정동 코드', axis=1)"
      ],
      "execution_count": null,
      "outputs": []
    },
    {
      "cell_type": "code",
      "metadata": {
        "colab": {
          "base_uri": "https://localhost:8080/",
          "height": 195
        },
        "id": "aorFeL9Vnker",
        "outputId": "18aec709-bc8c-4850-a5f7-45154f36de6c"
      },
      "source": [
        "# 날짜별 업종별 발생 건수와 발생금액의 합\r\n",
        "\r\n",
        "card3 = card2.groupby(['접수일자','업종 명'])[[\"발생 건수\", \"발생 금액\"]].sum().reset_index()\r\n",
        "card3.head()"
      ],
      "execution_count": null,
      "outputs": [
        {
          "output_type": "execute_result",
          "data": {
            "text/html": [
              "<div>\n",
              "<style scoped>\n",
              "    .dataframe tbody tr th:only-of-type {\n",
              "        vertical-align: middle;\n",
              "    }\n",
              "\n",
              "    .dataframe tbody tr th {\n",
              "        vertical-align: top;\n",
              "    }\n",
              "\n",
              "    .dataframe thead th {\n",
              "        text-align: right;\n",
              "    }\n",
              "</style>\n",
              "<table border=\"1\" class=\"dataframe\">\n",
              "  <thead>\n",
              "    <tr style=\"text-align: right;\">\n",
              "      <th></th>\n",
              "      <th>접수일자</th>\n",
              "      <th>업종 명</th>\n",
              "      <th>발생 건수</th>\n",
              "      <th>발생 금액</th>\n",
              "    </tr>\n",
              "  </thead>\n",
              "  <tbody>\n",
              "    <tr>\n",
              "      <th>0</th>\n",
              "      <td>2020-01-04</td>\n",
              "      <td>1급 호텔</td>\n",
              "      <td>38</td>\n",
              "      <td>6941145</td>\n",
              "    </tr>\n",
              "    <tr>\n",
              "      <th>1</th>\n",
              "      <td>2020-01-04</td>\n",
              "      <td>CATV홈쇼핑</td>\n",
              "      <td>4769</td>\n",
              "      <td>547207050</td>\n",
              "    </tr>\n",
              "    <tr>\n",
              "      <th>2</th>\n",
              "      <td>2020-01-04</td>\n",
              "      <td>가   방</td>\n",
              "      <td>83</td>\n",
              "      <td>5353600</td>\n",
              "    </tr>\n",
              "    <tr>\n",
              "      <th>3</th>\n",
              "      <td>2020-01-04</td>\n",
              "      <td>가전 제품</td>\n",
              "      <td>972</td>\n",
              "      <td>204308188</td>\n",
              "    </tr>\n",
              "    <tr>\n",
              "      <th>4</th>\n",
              "      <td>2020-01-04</td>\n",
              "      <td>가정용품수리</td>\n",
              "      <td>33</td>\n",
              "      <td>2047500</td>\n",
              "    </tr>\n",
              "  </tbody>\n",
              "</table>\n",
              "</div>"
            ],
            "text/plain": [
              "         접수일자     업종 명  발생 건수      발생 금액\n",
              "0  2020-01-04    1급 호텔     38    6941145\n",
              "1  2020-01-04  CATV홈쇼핑   4769  547207050\n",
              "2  2020-01-04    가   방     83    5353600\n",
              "3  2020-01-04    가전 제품    972  204308188\n",
              "4  2020-01-04   가정용품수리     33    2047500"
            ]
          },
          "metadata": {
            "tags": []
          },
          "execution_count": 61
        }
      ]
    },
    {
      "cell_type": "code",
      "metadata": {
        "colab": {
          "base_uri": "https://localhost:8080/",
          "height": 310
        },
        "id": "VwUqvTu5ljLT",
        "outputId": "909d5c6f-501a-40b2-e2cf-9262032afacf"
      },
      "source": [
        "# 결측치 확인\r\n",
        "sns.set(font=\"NanumGothic\", \r\n",
        "         rc={\"axes.unicode_minus\":False},\r\n",
        "         style='darkgrid')\r\n",
        "missingno.matrix(card3)"
      ],
      "execution_count": null,
      "outputs": [
        {
          "output_type": "execute_result",
          "data": {
            "text/plain": [
              "<matplotlib.axes._subplots.AxesSubplot at 0x7f9551ffa400>"
            ]
          },
          "metadata": {
            "tags": []
          },
          "execution_count": 81
        },
        {
          "output_type": "display_data",
          "data": {
            "image/png": "[encoded data removed]",
            "text/plain": [
              "<Figure size 1800x720 with 2 Axes>"
            ]
          },
          "metadata": {
            "tags": []
          }
        }
      ]
    },
    {
      "cell_type": "code",
      "metadata": {
        "colab": {
          "base_uri": "https://localhost:8080/",
          "height": 195
        },
        "id": "O6jgohowoXIT",
        "outputId": "016ca5f4-762d-4f62-ec0b-3ac764e74562"
      },
      "source": [
        "import datetime as dt\r\n",
        "card_compare_week = card3.copy()\r\n",
        "card_compare_week[\"주\"] = pd.to_datetime(card_compare[\"발생 건수\"]).dt.week\r\n",
        "card_compare_week = card_compare.groupby([\"업종 명\",\"주\"]).mean().reset_index()\r\n",
        "card_compare_week.head()"
      ],
      "execution_count": null,
      "outputs": [
        {
          "output_type": "execute_result",
          "data": {
            "text/html": [
              "<div>\n",
              "<style scoped>\n",
              "    .dataframe tbody tr th:only-of-type {\n",
              "        vertical-align: middle;\n",
              "    }\n",
              "\n",
              "    .dataframe tbody tr th {\n",
              "        vertical-align: top;\n",
              "    }\n",
              "\n",
              "    .dataframe thead th {\n",
              "        text-align: right;\n",
              "    }\n",
              "</style>\n",
              "<table border=\"1\" class=\"dataframe\">\n",
              "  <thead>\n",
              "    <tr style=\"text-align: right;\">\n",
              "      <th></th>\n",
              "      <th>업종 명</th>\n",
              "      <th>주</th>\n",
              "      <th>발생 건수</th>\n",
              "      <th>발생 금액</th>\n",
              "    </tr>\n",
              "  </thead>\n",
              "  <tbody>\n",
              "    <tr>\n",
              "      <th>0</th>\n",
              "      <td>1급 호텔</td>\n",
              "      <td>1</td>\n",
              "      <td>38.000000</td>\n",
              "      <td>6.941145e+06</td>\n",
              "    </tr>\n",
              "    <tr>\n",
              "      <th>1</th>\n",
              "      <td>1급 호텔</td>\n",
              "      <td>2</td>\n",
              "      <td>40.250000</td>\n",
              "      <td>6.593542e+06</td>\n",
              "    </tr>\n",
              "    <tr>\n",
              "      <th>2</th>\n",
              "      <td>1급 호텔</td>\n",
              "      <td>3</td>\n",
              "      <td>32.666667</td>\n",
              "      <td>3.869298e+06</td>\n",
              "    </tr>\n",
              "    <tr>\n",
              "      <th>3</th>\n",
              "      <td>1급 호텔</td>\n",
              "      <td>4</td>\n",
              "      <td>501.800000</td>\n",
              "      <td>1.017885e+08</td>\n",
              "    </tr>\n",
              "    <tr>\n",
              "      <th>4</th>\n",
              "      <td>1급 호텔</td>\n",
              "      <td>5</td>\n",
              "      <td>517.428571</td>\n",
              "      <td>8.460931e+07</td>\n",
              "    </tr>\n",
              "  </tbody>\n",
              "</table>\n",
              "</div>"
            ],
            "text/plain": [
              "    업종 명  주       발생 건수         발생 금액\n",
              "0  1급 호텔  1   38.000000  6.941145e+06\n",
              "1  1급 호텔  2   40.250000  6.593542e+06\n",
              "2  1급 호텔  3   32.666667  3.869298e+06\n",
              "3  1급 호텔  4  501.800000  1.017885e+08\n",
              "4  1급 호텔  5  517.428571  8.460931e+07"
            ]
          },
          "metadata": {
            "tags": []
          },
          "execution_count": 130
        }
      ]
    },
    {
      "cell_type": "code",
      "metadata": {
        "colab": {
          "base_uri": "https://localhost:8080/",
          "height": 402
        },
        "id": "VzCAj-Ttzr6L",
        "outputId": "77352fed-99cf-415b-eedd-87f6ef07a405"
      },
      "source": [
        "card_compare2 = card3.copy()\r\n",
        "card_compare2[\"일\"] = pd.to_datetime(card_compare[\"접수일자\"]).dt.day\r\n",
        "card_compare2.groupby([\"업종 명\",\"일\"]).mean().reset_index()"
      ],
      "execution_count": null,
      "outputs": [
        {
          "output_type": "execute_result",
          "data": {
            "text/html": [
              "<div>\n",
              "<style scoped>\n",
              "    .dataframe tbody tr th:only-of-type {\n",
              "        vertical-align: middle;\n",
              "    }\n",
              "\n",
              "    .dataframe tbody tr th {\n",
              "        vertical-align: top;\n",
              "    }\n",
              "\n",
              "    .dataframe thead th {\n",
              "        text-align: right;\n",
              "    }\n",
              "</style>\n",
              "<table border=\"1\" class=\"dataframe\">\n",
              "  <thead>\n",
              "    <tr style=\"text-align: right;\">\n",
              "      <th></th>\n",
              "      <th>업종 명</th>\n",
              "      <th>일</th>\n",
              "      <th>발생 건수</th>\n",
              "      <th>발생 금액</th>\n",
              "    </tr>\n",
              "  </thead>\n",
              "  <tbody>\n",
              "    <tr>\n",
              "      <th>0</th>\n",
              "      <td>1급 호텔</td>\n",
              "      <td>1</td>\n",
              "      <td>346.800000</td>\n",
              "      <td>3.497574e+07</td>\n",
              "    </tr>\n",
              "    <tr>\n",
              "      <th>1</th>\n",
              "      <td>1급 호텔</td>\n",
              "      <td>2</td>\n",
              "      <td>348.400000</td>\n",
              "      <td>4.689610e+07</td>\n",
              "    </tr>\n",
              "    <tr>\n",
              "      <th>2</th>\n",
              "      <td>1급 호텔</td>\n",
              "      <td>3</td>\n",
              "      <td>352.200000</td>\n",
              "      <td>5.313450e+07</td>\n",
              "    </tr>\n",
              "    <tr>\n",
              "      <th>3</th>\n",
              "      <td>1급 호텔</td>\n",
              "      <td>4</td>\n",
              "      <td>264.400000</td>\n",
              "      <td>1.648687e+07</td>\n",
              "    </tr>\n",
              "    <tr>\n",
              "      <th>4</th>\n",
              "      <td>1급 호텔</td>\n",
              "      <td>5</td>\n",
              "      <td>414.000000</td>\n",
              "      <td>4.830906e+07</td>\n",
              "    </tr>\n",
              "    <tr>\n",
              "      <th>...</th>\n",
              "      <td>...</td>\n",
              "      <td>...</td>\n",
              "      <td>...</td>\n",
              "      <td>...</td>\n",
              "    </tr>\n",
              "    <tr>\n",
              "      <th>7840</th>\n",
              "      <td>화방표구점</td>\n",
              "      <td>27</td>\n",
              "      <td>143.200000</td>\n",
              "      <td>8.583053e+06</td>\n",
              "    </tr>\n",
              "    <tr>\n",
              "      <th>7841</th>\n",
              "      <td>화방표구점</td>\n",
              "      <td>28</td>\n",
              "      <td>169.600000</td>\n",
              "      <td>1.389551e+07</td>\n",
              "    </tr>\n",
              "    <tr>\n",
              "      <th>7842</th>\n",
              "      <td>화방표구점</td>\n",
              "      <td>29</td>\n",
              "      <td>191.800000</td>\n",
              "      <td>1.680764e+07</td>\n",
              "    </tr>\n",
              "    <tr>\n",
              "      <th>7843</th>\n",
              "      <td>화방표구점</td>\n",
              "      <td>30</td>\n",
              "      <td>178.500000</td>\n",
              "      <td>9.755918e+06</td>\n",
              "    </tr>\n",
              "    <tr>\n",
              "      <th>7844</th>\n",
              "      <td>화방표구점</td>\n",
              "      <td>31</td>\n",
              "      <td>203.666667</td>\n",
              "      <td>1.305888e+07</td>\n",
              "    </tr>\n",
              "  </tbody>\n",
              "</table>\n",
              "<p>7845 rows × 4 columns</p>\n",
              "</div>"
            ],
            "text/plain": [
              "       업종 명   일       발생 건수         발생 금액\n",
              "0     1급 호텔   1  346.800000  3.497574e+07\n",
              "1     1급 호텔   2  348.400000  4.689610e+07\n",
              "2     1급 호텔   3  352.200000  5.313450e+07\n",
              "3     1급 호텔   4  264.400000  1.648687e+07\n",
              "4     1급 호텔   5  414.000000  4.830906e+07\n",
              "...     ...  ..         ...           ...\n",
              "7840  화방표구점  27  143.200000  8.583053e+06\n",
              "7841  화방표구점  28  169.600000  1.389551e+07\n",
              "7842  화방표구점  29  191.800000  1.680764e+07\n",
              "7843  화방표구점  30  178.500000  9.755918e+06\n",
              "7844  화방표구점  31  203.666667  1.305888e+07\n",
              "\n",
              "[7845 rows x 4 columns]"
            ]
          },
          "metadata": {
            "tags": []
          },
          "execution_count": 95
        }
      ]
    },
    {
      "cell_type": "code",
      "metadata": {
        "colab": {
          "base_uri": "https://localhost:8080/",
          "height": 242
        },
        "id": "rzRvP6w8yH-b",
        "outputId": "4f752b44-dbb1-439d-88c8-152455a850b1"
      },
      "source": [
        "fig, ax = plt.subplots(1,2,figsize=(14,5))\r\n",
        "\r\n",
        "ax[0].plot(card_compare2[card_compare2['업종 명'] == '인터넷종합Mall']['발생 건수'])\r\n",
        "ax[0].set_title(\"일별 인터넷종합Mall 발생 건수\", fontsize=15)\r\n",
        "ax[0].set_xticks([])\r\n",
        "ax[1].plot(card_compare[card_compare_week['업종 명'] == '인터넷종합Mall']['발생 건수'])\r\n",
        "ax[1].set_title(\"월별 인터넷종합Mall 발생 건수\", fontsize=15)   \r\n",
        "ax[1].set_xticks([])\r\n",
        "plt.tight_layout()\r\n"
      ],
      "execution_count": null,
      "outputs": [
        {
          "output_type": "display_data",
          "data": {
            "image/png": "[encoded data removed]",
            "text/plain": [
              "<Figure size 1008x360 with 2 Axes>"
            ]
          },
          "metadata": {
            "tags": []
          }
        }
      ]
    },
    {
      "cell_type": "code",
      "metadata": {
        "colab": {
          "base_uri": "https://localhost:8080/",
          "height": 195
        },
        "id": "7b91s6HFBtNa",
        "outputId": "6953d279-faae-4e4c-999f-152c95059929"
      },
      "source": [
        "date = list(card['접수일자'].unique())\r\n",
        "category = list(card['업종 명'].unique())\r\n",
        "item = [date, category]\r\n",
        "\r\n",
        "from itertools import product\r\n",
        "card_temp = pd.DataFrame(product(*item), columns= ['접수일자','업종 명'])\r\n",
        "\r\n",
        "card_to_temp = pd.merge(card3,card_temp,on=['접수일자','업종 명'], how='right')\r\n",
        "card_to_temp.head()\r\n",
        "card_to_temp = card_to_temp.fillna(0)\r\n",
        "card_to_temp = card_to_temp.groupby(['접수일자','업종 명']).mean().reset_index()\r\n",
        "card_to_temp.head()"
      ],
      "execution_count": null,
      "outputs": [
        {
          "output_type": "execute_result",
          "data": {
            "text/html": [
              "<div>\n",
              "<style scoped>\n",
              "    .dataframe tbody tr th:only-of-type {\n",
              "        vertical-align: middle;\n",
              "    }\n",
              "\n",
              "    .dataframe tbody tr th {\n",
              "        vertical-align: top;\n",
              "    }\n",
              "\n",
              "    .dataframe thead th {\n",
              "        text-align: right;\n",
              "    }\n",
              "</style>\n",
              "<table border=\"1\" class=\"dataframe\">\n",
              "  <thead>\n",
              "    <tr style=\"text-align: right;\">\n",
              "      <th></th>\n",
              "      <th>접수일자</th>\n",
              "      <th>업종 명</th>\n",
              "      <th>발생 건수</th>\n",
              "      <th>발생 금액</th>\n",
              "    </tr>\n",
              "  </thead>\n",
              "  <tbody>\n",
              "    <tr>\n",
              "      <th>0</th>\n",
              "      <td>2020-01-04</td>\n",
              "      <td>1급 호텔</td>\n",
              "      <td>38.0</td>\n",
              "      <td>6941145.0</td>\n",
              "    </tr>\n",
              "    <tr>\n",
              "      <th>1</th>\n",
              "      <td>2020-01-04</td>\n",
              "      <td>2급 호텔</td>\n",
              "      <td>0.0</td>\n",
              "      <td>0.0</td>\n",
              "    </tr>\n",
              "    <tr>\n",
              "      <th>2</th>\n",
              "      <td>2020-01-04</td>\n",
              "      <td>CATV</td>\n",
              "      <td>0.0</td>\n",
              "      <td>0.0</td>\n",
              "    </tr>\n",
              "    <tr>\n",
              "      <th>3</th>\n",
              "      <td>2020-01-04</td>\n",
              "      <td>CATV홈쇼핑</td>\n",
              "      <td>4769.0</td>\n",
              "      <td>547207050.0</td>\n",
              "    </tr>\n",
              "    <tr>\n",
              "      <th>4</th>\n",
              "      <td>2020-01-04</td>\n",
              "      <td>L P G</td>\n",
              "      <td>0.0</td>\n",
              "      <td>0.0</td>\n",
              "    </tr>\n",
              "  </tbody>\n",
              "</table>\n",
              "</div>"
            ],
            "text/plain": [
              "         접수일자     업종 명   발생 건수        발생 금액\n",
              "0  2020-01-04    1급 호텔    38.0    6941145.0\n",
              "1  2020-01-04    2급 호텔     0.0          0.0\n",
              "2  2020-01-04     CATV     0.0          0.0\n",
              "3  2020-01-04  CATV홈쇼핑  4769.0  547207050.0\n",
              "4  2020-01-04    L P G     0.0          0.0"
            ]
          },
          "metadata": {
            "tags": []
          },
          "execution_count": 152
        }
      ]
    }
  ]
}