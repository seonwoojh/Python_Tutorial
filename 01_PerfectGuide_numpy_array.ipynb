{
  "nbformat": 4,
  "nbformat_minor": 0,
  "metadata": {
    "colab": {
      "name": "01_PerfectGuide_numpy_array.ipynb",
      "provenance": [],
      "authorship_tag": "ABX9TyMYEdOi9AN64ZqaI0n+56/s",
      "include_colab_link": true
    },
    "kernelspec": {
      "name": "python3",
      "display_name": "Python 3"
    }
  },
  "cells": [
    {
      "cell_type": "markdown",
      "metadata": {
        "id": "view-in-github",
        "colab_type": "text"
      },
      "source": [
        "<a href=\"https://colab.research.google.com/github/swjh9523/Python_Tutorial/blob/master/01_PerfectGuide_numpy_array.ipynb\" target=\"_parent\"><img src=\"https://colab.research.google.com/assets/colab-badge.svg\" alt=\"Open In Colab\"/></a>"
      ]
    },
    {
      "cell_type": "code",
      "metadata": {
        "id": "Q6Z2dCB_PiD1"
      },
      "source": [
        "import numpy as np"
      ],
      "execution_count": null,
      "outputs": []
    },
    {
      "cell_type": "code",
      "metadata": {
        "colab": {
          "base_uri": "https://localhost:8080/"
        },
        "id": "QMuOhc3hQXet",
        "outputId": "563e7a01-6024-470e-9610-02d984e24861"
      },
      "source": [
        "# ndarray 생성 np.array()\r\n",
        "list1 = [1, 2, 3]\r\n",
        "print(\"list1:\",list1)\r\n",
        "print(\"list1 type:\", type(list1))\r\n",
        "\r\n",
        "array1 = np.array(list1)\r\n",
        "print(\"array1:\", array1)\r\n",
        "print(\"array1 type:\", type(array1))"
      ],
      "execution_count": null,
      "outputs": [
        {
          "output_type": "stream",
          "text": [
            "list1: [1, 2, 3]\n",
            "list1 type: <class 'list'>\n",
            "array1: [1 2 3]\n",
            "array1 type: <class 'numpy.ndarray'>\n"
          ],
          "name": "stdout"
        }
      ]
    },
    {
      "cell_type": "code",
      "metadata": {
        "colab": {
          "base_uri": "https://localhost:8080/"
        },
        "id": "9Ccf_EcsQpvP",
        "outputId": "d7434a39-f4b2-4dc5-df07-797547d20691"
      },
      "source": [
        "# ndarray의 형태(shape)와 차원\r\n",
        "\r\n",
        "array1 = np.array([1,2,3])\r\n",
        "print(\"array1 type:\", type(array1))\r\n",
        "print(\"array1 array 형태:\", array1.shape)\r\n",
        "\r\n",
        "array2 = np.array([[1,2,3],\r\n",
        "                  [2,3,4]])\r\n",
        "print(\"array2 type :\", type(array2))\r\n",
        "print(\"array2 array 형태 :\", array2.shape)\r\n",
        "\r\n",
        "array3 = np.array([[1,2,3]])\r\n",
        "print(\"array3 type :\",type(array3))\r\n",
        "print('array3 array 형태:',array3.shape)"
      ],
      "execution_count": null,
      "outputs": [
        {
          "output_type": "stream",
          "text": [
            "array1 type: <class 'numpy.ndarray'>\n",
            "array1 array 형태: (3,)\n",
            "array2 type : <class 'numpy.ndarray'>\n",
            "array2 array 형태 : (2, 3)\n",
            "array3 type : <class 'numpy.ndarray'>\n",
            "array3 array 형태: (1, 3)\n"
          ],
          "name": "stdout"
        }
      ]
    },
    {
      "cell_type": "code",
      "metadata": {
        "colab": {
          "base_uri": "https://localhost:8080/"
        },
        "id": "JXNqp_m_RhEL",
        "outputId": "38ee64ed-7db5-4c0d-d216-5d3996b2513b"
      },
      "source": [
        "print('array1: {:0}차원, array2: {:1}차원, array3: {:2}차원'.format(array1.ndim,array2.ndim,array3.ndim))"
      ],
      "execution_count": null,
      "outputs": [
        {
          "output_type": "stream",
          "text": [
            "array1: 1차원, array2: 2차원, array3:  2차원\n"
          ],
          "name": "stdout"
        }
      ]
    },
    {
      "cell_type": "code",
      "metadata": {
        "id": "Q7LPjYotTUDB"
      },
      "source": [
        "# ndarray 데이터 값 타입\r\n",
        "\r\n"
      ],
      "execution_count": null,
      "outputs": []
    }
  ]
}